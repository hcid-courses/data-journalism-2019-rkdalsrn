{
 "cells": [
  {
   "cell_type": "markdown",
   "metadata": {},
   "source": [
    " 과제에 대해서 파일명에 대해서 교수님 수업 자료에서는 A2-2-학번-이름으로 저장하라고 하셨는데 파이썬 파일을 보면 Week3~ 와 같은 명으로 나와있는 것 같습니다. 우선 저는 'A2-2-학번-이름'으로 파일 이름을 지정하였습니다. \n",
    " 문제 3번에 있어서 저장된 txt 파일에 대해서도 같이 첨부하였습니다. "
   ]
  }
 ],
 "metadata": {
  "kernelspec": {
   "display_name": "Python 3",
   "language": "python",
   "name": "python3"
  },
  "language_info": {
   "codemirror_mode": {
    "name": "ipython",
    "version": 3
   },
   "file_extension": ".py",
   "mimetype": "text/x-python",
   "name": "python",
   "nbconvert_exporter": "python",
   "pygments_lexer": "ipython3",
   "version": "3.7.3"
  }
 },
 "nbformat": 4,
 "nbformat_minor": 2
}
